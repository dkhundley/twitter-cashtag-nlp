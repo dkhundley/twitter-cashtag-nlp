{
 "cells": [
  {
   "cell_type": "markdown",
   "id": "c4e17f26",
   "metadata": {},
   "source": [
    "# Twitter API Interaction\n",
    "This notebook will walk you through how we will be interacting with the Twitter API to get cashtag-based tweets appropriately. In order to be able to leverage this notebook, you will need to obtain your own Twitter API keys, which you can get by interacting with the [Twitter Developer Portal](https://developer.twitter.com/content/developer-twitter/en)."
   ]
  },
  {
   "cell_type": "markdown",
   "id": "afec3b34",
   "metadata": {},
   "source": [
    "## Project Setup\n",
    "In this first brief section, we'll import the required Python libraries and also load in the Twitter API keys from a sensitive file that is intentionally not pushed up to GitHub. (I use a `.gitignore` file to store these keys in a YAML file in a directory called `keys/` that the `.gitignore` file intentionally does not push to GitHub.)"
   ]
  },
  {
   "cell_type": "code",
   "execution_count": 1,
   "id": "028baaa9",
   "metadata": {},
   "outputs": [],
   "source": [
    "# Importing the necessary Python libraries\n",
    "import os\n",
    "import requests\n",
    "import yaml"
   ]
  },
  {
   "cell_type": "code",
   "execution_count": 2,
   "id": "cd36a828",
   "metadata": {},
   "outputs": [],
   "source": [
    "# Loading in my personal Twitter API keys from a sensitive file\n",
    "with open('../keys/twitter-api-keys.yaml', 'r') as f:\n",
    "    twitter_keys = yaml.safe_load(f)"
   ]
  },
  {
   "cell_type": "code",
   "execution_count": 6,
   "id": "532d12fd",
   "metadata": {},
   "outputs": [],
   "source": [
    "# Extracting bearer token from the list of all my Twitter API keys\n",
    "bearer_token = twitter_keys['dkhundley_twitter_creds']['bearer_token']"
   ]
  },
  {
   "cell_type": "markdown",
   "id": "a3419237",
   "metadata": {},
   "source": [
    "## Using the Twitter API\n",
    "While there are Python based wrappers like Tweepy, we are going to be interacting with the Twitter API directly through the `requests` library. This is because the Twitter Python wrappers aren't exactly up-to-date with the latest and greatest stuff, and the functionality we want to use was actually introduced very recently (July 2022).\n",
    "\n",
    "This notebook will cover everything that we need for this project, but if you specifically want to see which documentation I leveraged for this project, check out these links:\n",
    "\n",
    "* [General Twitter Developer Portal](https://developer.twitter.com/content/developer-twitter/en)\n",
    "* [Press Release on New Operators for Twitter API v2](https://developer.twitter.com/en/blog/product-news/2022/twitter-api-v2-filtered-stream)\n",
    "* [Twitter Introduction to Filtered Streams](https://developer.twitter.com/en/docs/twitter-api/tweets/filtered-stream/introduction)\n",
    "* [Twitter How to Use Filtered Streams](https://developer.twitter.com/en/docs/twitter-api/tweets/filtered-stream/api-reference/post-tweets-search-stream-rules)"
   ]
  },
  {
   "cell_type": "code",
   "execution_count": null,
   "id": "bdb806aa",
   "metadata": {},
   "outputs": [],
   "source": [
    "# Setting the proper API URL\n",
    "twitter_api_url = 'https:'"
   ]
  }
 ],
 "metadata": {
  "kernelspec": {
   "display_name": "Python 3",
   "language": "python",
   "name": "python3"
  },
  "language_info": {
   "codemirror_mode": {
    "name": "ipython",
    "version": 3
   },
   "file_extension": ".py",
   "mimetype": "text/x-python",
   "name": "python",
   "nbconvert_exporter": "python",
   "pygments_lexer": "ipython3",
   "version": "3.8.8"
  }
 },
 "nbformat": 4,
 "nbformat_minor": 5
}
