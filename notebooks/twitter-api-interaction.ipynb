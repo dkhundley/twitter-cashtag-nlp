{
 "cells": [
  {
   "cell_type": "markdown",
   "id": "a7cd9c0f",
   "metadata": {},
   "source": [
    "# Twitter API Interaction\n",
    "This notebook will walk you through how we will be interacting with the Twitter API to get cashtag-based tweets appropriately. In order to be able to leverage this notebook, you will need to obtain your own Twitter API keys, which you can get by interacting with the [Twitter Developer Portal](https://developer.twitter.com/content/developer-twitter/en)."
   ]
  },
  {
   "cell_type": "markdown",
   "id": "6bb7d0b1",
   "metadata": {},
   "source": [
    "## Project Setup\n",
    "In this first brief section, we'll import the required Python libraries and also load in the Twitter API keys from a sensitive file that is intentionally not pushed up to GitHub. (I use a `.gitignore` file to store these keys in a YAML file in a directory called `keys/` that the `.gitignore` file intentionally does not push to GitHub.)"
   ]
  },
  {
   "cell_type": "code",
   "execution_count": 7,
   "id": "a21c474d",
   "metadata": {},
   "outputs": [],
   "source": [
    "# Importing the necessary Python libraries\n",
    "import os\n",
    "import json\n",
    "import yaml\n",
    "import requests"
   ]
  },
  {
   "cell_type": "code",
   "execution_count": 8,
   "id": "f8dc09e9",
   "metadata": {},
   "outputs": [],
   "source": [
    "# Loading in my personal Twitter API keys from a sensitive file\n",
    "with open('../keys/twitter-api-keys.yaml', 'r') as f:\n",
    "    twitter_keys = yaml.safe_load(f)"
   ]
  },
  {
   "cell_type": "code",
   "execution_count": 9,
   "id": "ffd87b7a",
   "metadata": {},
   "outputs": [],
   "source": [
    "# Extracting bearer token from the list of all my Twitter API keys\n",
    "bearer_token = twitter_keys['dkhundley_twitter_creds']['bearer_token']"
   ]
  },
  {
   "cell_type": "markdown",
   "id": "a458231d",
   "metadata": {},
   "source": [
    "## Using the Twitter API\n",
    "While there are Python based wrappers like Tweepy, we are going to be interacting with the Twitter API directly through the `requests` library. This is because the Twitter Python wrappers aren't exactly up-to-date with the latest and greatest stuff, and the functionality we want to use was actually introduced very recently (July 2022).\n",
    "\n",
    "This notebook will cover everything that we need for this project, but if you specifically want to see which documentation I leveraged for this project, check out these links:\n",
    "\n",
    "* [General Twitter Developer Portal](https://developer.twitter.com/content/developer-twitter/en)\n",
    "* [Press Release on New Operators for Twitter API v2](https://developer.twitter.com/en/blog/product-news/2022/twitter-api-v2-filtered-stream)\n",
    "* [Twitter Introduction to Filtered Streams](https://developer.twitter.com/en/docs/twitter-api/tweets/filtered-stream/introduction)\n",
    "* [Twitter How to Use Filtered Streams](https://developer.twitter.com/en/docs/twitter-api/tweets/filtered-stream/api-reference/post-tweets-search-stream-rules)"
   ]
  },
  {
   "cell_type": "code",
   "execution_count": 10,
   "id": "342f98ff",
   "metadata": {},
   "outputs": [],
   "source": [
    "# Creating a function to handle the OAuth headers\n",
    "def bearer_oauth(r):\n",
    "    r.headers['Authorization'] = f'Bearer {bearer_token}'\n",
    "    r.headers['User-Agent'] = 'v2FilteredStreamPython'\n",
    "    return r"
   ]
  },
  {
   "cell_type": "code",
   "execution_count": 11,
   "id": "0cb80f8a",
   "metadata": {},
   "outputs": [],
   "source": [
    "# Setting the proper API URL\n",
    "twitter_api_url = 'https://api.twitter.com/2/tweets/search/stream'"
   ]
  },
  {
   "cell_type": "markdown",
   "id": "5b994575",
   "metadata": {},
   "source": [
    "### Getting the Rules"
   ]
  },
  {
   "cell_type": "code",
   "execution_count": 12,
   "id": "b26813dd",
   "metadata": {},
   "outputs": [
    {
     "name": "stdout",
     "output_type": "stream",
     "text": [
      "Current rules: \n",
      "{\"data\": [{\"id\": \"1568051892214812673\", \"value\": \"$aapl OR $tsla OR $twtr\"}], \"meta\": {\"sent\": \"2022-09-23T15:40:39.678Z\", \"result_count\": 1}}\n"
     ]
    }
   ],
   "source": [
    "# Checking with the Twitter API to see which rules are currently set for the filtered stream\n",
    "response = requests.get(f'{twitter_api_url}/rules', auth = bearer_oauth)\n",
    "\n",
    "# Printing out the appropriate response, whether it be the appropriate rules or an error\n",
    "if response.status_code != 200:\n",
    "    raise Exception(f'Cannot get rules (HTTP {response.status_code}): {response.text}')\n",
    "print('Current rules: ')\n",
    "print(json.dumps(response.json()))\n",
    "\n",
    "# Saving results to variable\n",
    "current_rules = response.json()"
   ]
  },
  {
   "cell_type": "markdown",
   "id": "5761cf17",
   "metadata": {},
   "source": [
    "### Deleting Old Rules"
   ]
  },
  {
   "cell_type": "code",
   "execution_count": null,
   "id": "b3d0f1b8",
   "metadata": {},
   "outputs": [],
   "source": [
    "# Iterating through any currently existing rules to delete them\n",
    "if current_rules is not None or 'data' in current_rules:\n",
    "    \n",
    "    # Collecting the IDs of the currently existing rules\n",
    "    current_rule_ids = list(map(lambda rule: rule['id'], current_rules['data']))\n",
    "    \n",
    "    # Structuring a delete payload to send to API\n",
    "    delete_payload = {'delete': {'ids': current_rule_ids}}\n",
    "    \n",
    "    # Sending the delete payload to the API\n",
    "    response = requests.post(f'{twitter_api_url}/rules', auth = bearer_oauth, json = delete_payload)\n",
    "    \n",
    "    # Verifying delete results\n",
    "    if response.status_code != 200:\n",
    "        raise Exception(f'Cannot delete rules (HTTP {response.status_code}): {response.text}')\n",
    "    print(json.dumps(response.json()))"
   ]
  },
  {
   "cell_type": "markdown",
   "id": "87f319b1",
   "metadata": {},
   "source": [
    "### Setting New Rules"
   ]
  },
  {
   "cell_type": "code",
   "execution_count": null,
   "id": "40153957",
   "metadata": {},
   "outputs": [],
   "source": [
    "# Setting the query paramaters for our API search results call\n",
    "new_rules = [\n",
    "    {'value': '$tsla OR $aapl OR $twtr'}\n",
    "]\n",
    "\n",
    "# Structuring payload to add new rules\n",
    "add_payload = {\n",
    "    'add': new_rules\n",
    "}"
   ]
  },
  {
   "cell_type": "code",
   "execution_count": null,
   "id": "87300941",
   "metadata": {},
   "outputs": [],
   "source": [
    "# Sending the add payload to the API\n",
    "response = requests.post(f'{twitter_api_url}/rules', auth = bearer_oauth, json = add_payload)\n",
    "\n",
    "# Printing out the results appropriately\n",
    "if response.status_code != 201:\n",
    "    raise Exception(f'Cannot add rules (HTTP {response.status_code}): {response.text}')\n",
    "print(json.dumps(response.json()))"
   ]
  },
  {
   "cell_type": "markdown",
   "id": "911e31e0",
   "metadata": {},
   "source": [
    "### Streaming Twitter Results"
   ]
  },
  {
   "cell_type": "code",
   "execution_count": null,
   "id": "a0591752",
   "metadata": {},
   "outputs": [],
   "source": [
    "response = requests.get(twitter_api_url, auth = bearer_oauth)\n",
    "print(response.status_code)\n",
    "for response_line in response.iter_lines():\n",
    "    if response_line:\n",
    "        json_response = json.loads(response_line)\n",
    "        print(json.dumps(json_response, indent = 4, sort_keys = True))"
   ]
  },
  {
   "cell_type": "code",
   "execution_count": null,
   "id": "d786d9c6",
   "metadata": {},
   "outputs": [],
   "source": []
  }
 ],
 "metadata": {
  "kernelspec": {
   "display_name": "Python 3",
   "language": "python",
   "name": "python3"
  },
  "language_info": {
   "codemirror_mode": {
    "name": "ipython",
    "version": 3
   },
   "file_extension": ".py",
   "mimetype": "text/x-python",
   "name": "python",
   "nbconvert_exporter": "python",
   "pygments_lexer": "ipython3",
   "version": "3.8.8"
  }
 },
 "nbformat": 4,
 "nbformat_minor": 5
}
